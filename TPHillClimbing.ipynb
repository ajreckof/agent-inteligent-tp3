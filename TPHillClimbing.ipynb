{
 "cells": [
  {
   "cell_type": "markdown",
   "metadata": {},
   "source": [
    "# TP3 Méthodes par recherche directe de politique\n",
    "\n",
    "Dans ce TP, vous devez implémenter un agent qui fait de la recherche stochastique de politique pour apprendre à controler un système. L'environnement de simulation utilisé sera [CartPole](https://gymnasium.farama.org/environments/classic_control/cart_pole/).\n",
    "\n",
    "\n",
    "<img src='img/cartpole.png'  width=500px>\n",
    "\n",
    "# Consignes\n",
    "\n",
    "> Pour chaque algorithme, vous devez tracer la somme des récompenses obtenues par épisode pour:\n",
    "- la phase d'apprentissage\n",
    "- une phase de test de la meilleure politique\n",
    "\n",
    "> Vous devez sauvegardez la meilleure politique trouvée pour chaque algorithme. \n",
    "\n",
    "> Vous proposerez une méthode permettant de charger une politique sauvegardée et de la tester (tracé des récompenses sur x épisodes de test).\n",
    "\n",
    "\n",
    "# 1. Principe\n",
    "\n",
    "<img src='img/principe.png'  width=700px>\n",
    "\n",
    "# 2. Algo 1: Hill CLimbing\n",
    "\n",
    "Implémenter l'algorihme de Hill Climbing ci-dessous:\n",
    "\n",
    "<img src='img/hillclimbing.png'  width=500px>\n",
    "\n",
    "avec $G$ la somme (pondérée) des récompenses sur un épisode.\n",
    "\n",
    "# 3. Algo 2: Hill Climbing avec Adaptive Noise Scaling\n",
    "\n",
    "Améliorer l'algorithme précédent en ajoutant une modification de la variance du bruit.\n",
    "\n"
   ]
  },
  {
   "cell_type": "markdown",
   "metadata": {},
   "source": []
  }
 ],
 "metadata": {
  "anaconda-cloud": {},
  "kernelspec": {
   "display_name": "Python 3 (ipykernel)",
   "language": "python",
   "name": "python3"
  },
  "language_info": {
   "codemirror_mode": {
    "name": "ipython",
    "version": 3
   },
   "file_extension": ".py",
   "mimetype": "text/x-python",
   "name": "python",
   "nbconvert_exporter": "python",
   "pygments_lexer": "ipython3",
   "version": "3.11.5"
  }
 },
 "nbformat": 4,
 "nbformat_minor": 4
}
